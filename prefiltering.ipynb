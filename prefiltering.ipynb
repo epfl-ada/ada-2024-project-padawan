{
 "cells": [
  {
   "cell_type": "markdown",
   "metadata": {},
   "source": [
    "## ADA PM2 - Dataset pre-filtering\n",
    "\n",
    "This notebooks aims at pre-filtering the [YouNiverse](https://zenodo.org/records/4650046) dataset to only keep gaming related content. In the detail, we will proceed following the next steps.\n",
    "1. Keep only videos which `category` is `Gaming`.\n",
    "2. Keep only channels which have at least one video in the selected list.\n",
    "3. Keep only time-series for the selected channels.\n",
    "4. Keep only comments for the selected videos.\n",
    "\n",
    "We will export each of the resulting datasets in a separate `.tsv` file."
   ]
  },
  {
   "cell_type": "code",
   "execution_count": 39,
   "metadata": {},
   "outputs": [],
   "source": [
    "import polars as pl\n",
    "import tqdm\n",
    "import json\n",
    "\n",
    "VIDEOS_PATH = \"data/youniverse/original/yt_metadata_en_100k.jsonl\"\n",
    "CHANNELS_PATH =  \"./data/youniverse/original/df_channels_en.tsv\"\n",
    "TIMESERIES_PATH = \"data/youniverse/original/df_timeseries_en.tsv\"\n",
    "COMMENTS_PATH =  \"data/youniverse/original/youtube_comments.tsv\""
   ]
  },
  {
   "cell_type": "markdown",
   "metadata": {},
   "source": [
    "## Videos\n",
    "As a first step, let's simply grasp the first lines of our dataset so as to understand its structure."
   ]
  },
  {
   "cell_type": "code",
   "execution_count": 44,
   "metadata": {},
   "outputs": [
    {
     "data": {
      "text/html": [
       "<div><style>\n",
       ".dataframe > thead > tr,\n",
       ".dataframe > tbody > tr {\n",
       "  text-align: right;\n",
       "  white-space: pre-wrap;\n",
       "}\n",
       "</style>\n",
       "<small>shape: (1, 12)</small><table border=\"1\" class=\"dataframe\"><thead><tr><th>categories</th><th>channel_id</th><th>crawl_date</th><th>description</th><th>dislike_count</th><th>display_id</th><th>duration</th><th>like_count</th><th>tags</th><th>title</th><th>upload_date</th><th>view_count</th></tr><tr><td>str</td><td>str</td><td>str</td><td>str</td><td>f64</td><td>str</td><td>i64</td><td>f64</td><td>str</td><td>str</td><td>str</td><td>f64</td></tr></thead><tbody><tr><td>&quot;Film &amp; Animation&quot;</td><td>&quot;UCzWrhkg9eK5I8Bm3HfV-unA&quot;</td><td>&quot;2019-10-31 20:19:26.270363&quot;</td><td>&quot;Lego City Police Lego Firetruc…</td><td>1.0</td><td>&quot;SBqSc91Hn9g&quot;</td><td>1159</td><td>8.0</td><td>&quot;lego city,lego police,lego cit…</td><td>&quot;Lego City Police Lego Firetruc…</td><td>&quot;2016-09-28 00:00:00&quot;</td><td>1057.0</td></tr></tbody></table></div>"
      ],
      "text/plain": [
       "shape: (1, 12)\n",
       "┌───────────┬───────────┬───────────┬───────────┬───┬───────────┬───────────┬───────────┬──────────┐\n",
       "│ categorie ┆ channel_i ┆ crawl_dat ┆ descripti ┆ … ┆ tags      ┆ title     ┆ upload_da ┆ view_cou │\n",
       "│ s         ┆ d         ┆ e         ┆ on        ┆   ┆ ---       ┆ ---       ┆ te        ┆ nt       │\n",
       "│ ---       ┆ ---       ┆ ---       ┆ ---       ┆   ┆ str       ┆ str       ┆ ---       ┆ ---      │\n",
       "│ str       ┆ str       ┆ str       ┆ str       ┆   ┆           ┆           ┆ str       ┆ f64      │\n",
       "╞═══════════╪═══════════╪═══════════╪═══════════╪═══╪═══════════╪═══════════╪═══════════╪══════════╡\n",
       "│ Film &    ┆ UCzWrhkg9 ┆ 2019-10-3 ┆ Lego City ┆ … ┆ lego      ┆ Lego City ┆ 2016-09-2 ┆ 1057.0   │\n",
       "│ Animation ┆ eK5I8Bm3H ┆ 1 20:19:2 ┆ Police    ┆   ┆ city,lego ┆ Police    ┆ 8         ┆          │\n",
       "│           ┆ fV-unA    ┆ 6.270363  ┆ Lego      ┆   ┆ police,le ┆ Lego      ┆ 00:00:00  ┆          │\n",
       "│           ┆           ┆           ┆ Firetruc… ┆   ┆ go cit…   ┆ Firetruc… ┆           ┆          │\n",
       "└───────────┴───────────┴───────────┴───────────┴───┴───────────┴───────────┴───────────┴──────────┘"
      ]
     },
     "execution_count": 44,
     "metadata": {},
     "output_type": "execute_result"
    }
   ],
   "source": [
    "first_video_df = pl.scan_ndjson(VIDEOS_PATH, n_rows=1)\n",
    "\n",
    "first_video_df.collect()"
   ]
  },
  {
   "cell_type": "markdown",
   "metadata": {},
   "source": [
    "Since we only want to get **gaming videos**, we need to filter out this category from our dataset. At the same time, we filter out the columns that are not relevant for our analysis. According to our understanding of the dataset, we will keep the following columns :\n",
    "- `title` and `tags`, which contain useful information about the video content\n",
    "- `upload_date`, which may be useful to track the link between subjects and periods\n",
    "- `view_count`, `like_count` and `dislike_count`, which are key indicators of the video popularity\n",
    "- `duration`, which may be useful to track trends per video game\n",
    "- `channel_id` and `display_id`, which are useful`to link videos to channels and comments\n",
    "\n",
    "We drop the `description` column, as it is too heavy to handle over that many videos. We also drop the `categories` column, which is no longer relevant, as well as the `crawl_date` column which is not usefult for our study. Finally, we fill missing values for `tags` with empty strings."
   ]
  },
  {
   "cell_type": "code",
   "execution_count": 81,
   "metadata": {},
   "outputs": [
    {
     "data": {
      "text/html": [
       "<div><style>\n",
       ".dataframe > thead > tr,\n",
       ".dataframe > tbody > tr {\n",
       "  text-align: right;\n",
       "  white-space: pre-wrap;\n",
       "}\n",
       "</style>\n",
       "<small>shape: (21_057, 9)</small><table border=\"1\" class=\"dataframe\"><thead><tr><th>title</th><th>tags</th><th>upload_date</th><th>view_count</th><th>like_count</th><th>dislike_count</th><th>duration</th><th>channel_id</th><th>display_id</th></tr><tr><td>str</td><td>str</td><td>str</td><td>f64</td><td>f64</td><td>f64</td><td>i64</td><td>str</td><td>str</td></tr></thead><tbody><tr><td>&quot;Lego City Lego Police1 Hour Lo…</td><td>&quot;lego city,lego police,lego cit…</td><td>&quot;2016-09-26 00:00:00&quot;</td><td>1253.0</td><td>9.0</td><td>0.0</td><td>3442</td><td>&quot;UCzWrhkg9eK5I8Bm3HfV-unA&quot;</td><td>&quot;y5IvyZlzELs&quot;</td></tr><tr><td>&quot;Lego City Police Lego Fireman …</td><td>&quot;lego city,lego police,lego cit…</td><td>&quot;2016-09-25 00:00:00&quot;</td><td>2311.0</td><td>8.0</td><td>0.0</td><td>2407</td><td>&quot;UCzWrhkg9eK5I8Bm3HfV-unA&quot;</td><td>&quot;m1agc0qT0BY&quot;</td></tr><tr><td>&quot;Lego Dimensions Cartoons Movie…</td><td>&quot;lego city,lego dimensions,lego…</td><td>&quot;2016-09-24 00:00:00&quot;</td><td>5596.0</td><td>11.0</td><td>1.0</td><td>1820</td><td>&quot;UCzWrhkg9eK5I8Bm3HfV-unA&quot;</td><td>&quot;rr6tfbBA9iY&quot;</td></tr><tr><td>&quot;Lego City Police Lego Fireman …</td><td>&quot;lego city,lego city police,leg…</td><td>&quot;2016-09-21 00:00:00&quot;</td><td>792.0</td><td>8.0</td><td>0.0</td><td>1209</td><td>&quot;UCzWrhkg9eK5I8Bm3HfV-unA&quot;</td><td>&quot;ZGll5_wD9Ys&quot;</td></tr><tr><td>&quot;Lego Jurassic World Complete M…</td><td>&quot;lego jurassic world,lego city,…</td><td>&quot;2016-09-21 00:00:00&quot;</td><td>1.141393e6</td><td>2076.0</td><td>426.0</td><td>2053</td><td>&quot;UCzWrhkg9eK5I8Bm3HfV-unA&quot;</td><td>&quot;kYkokQgnu20&quot;</td></tr><tr><td>&hellip;</td><td>&hellip;</td><td>&hellip;</td><td>&hellip;</td><td>&hellip;</td><td>&hellip;</td><td>&hellip;</td><td>&hellip;</td><td>&hellip;</td></tr><tr><td>&quot;How To Gain 50,000 XP A GAME F…</td><td>&quot;cdotveezy,cdotveezy uploads,sh…</td><td>&quot;2018-09-28 00:00:00&quot;</td><td>6505.0</td><td>135.0</td><td>1.0</td><td>260</td><td>&quot;UCzRFJpgXBSRoYlZfKe0w80w&quot;</td><td>&quot;fLaFJtgGUUY&quot;</td></tr><tr><td>&quot;I Dropped 20 On His Head?!?! 9…</td><td>&quot;cdotveezy,cdotveezy uploads,sh…</td><td>&quot;2018-09-25 00:00:00&quot;</td><td>1101.0</td><td>42.0</td><td>2.0</td><td>574</td><td>&quot;UCzRFJpgXBSRoYlZfKe0w80w&quot;</td><td>&quot;pbAeRGl-BaY&quot;</td></tr><tr><td>&quot;Turn Up!! Here&#x27;s My 92 Overall…</td><td>&quot;cdotveezy,cdotveezy uploads,sh…</td><td>&quot;2018-09-24 00:00:00&quot;</td><td>12819.0</td><td>213.0</td><td>7.0</td><td>444</td><td>&quot;UCzRFJpgXBSRoYlZfKe0w80w&quot;</td><td>&quot;csHo-yizKxY&quot;</td></tr><tr><td>&quot;Its Time To Clutch Up!!!!! 91 …</td><td>&quot;cdotveezy,cdotveezy uploads,sh…</td><td>&quot;2018-09-21 00:00:00&quot;</td><td>794.0</td><td>27.0</td><td>0.0</td><td>385</td><td>&quot;UCzRFJpgXBSRoYlZfKe0w80w&quot;</td><td>&quot;zMfT8C0Hac8&quot;</td></tr><tr><td>&quot;What Is This CHEESE!?!?! 91 Ov…</td><td>&quot;cdotveezy,cdotveezy uploads,sh…</td><td>&quot;2018-09-20 00:00:00&quot;</td><td>1664.0</td><td>37.0</td><td>0.0</td><td>335</td><td>&quot;UCzRFJpgXBSRoYlZfKe0w80w&quot;</td><td>&quot;OfAU595EIEs&quot;</td></tr></tbody></table></div>"
      ],
      "text/plain": [
       "shape: (21_057, 9)\n",
       "┌───────────┬───────────┬───────────┬───────────┬───┬───────────┬──────────┬───────────┬───────────┐\n",
       "│ title     ┆ tags      ┆ upload_da ┆ view_coun ┆ … ┆ dislike_c ┆ duration ┆ channel_i ┆ display_i │\n",
       "│ ---       ┆ ---       ┆ te        ┆ t         ┆   ┆ ount      ┆ ---      ┆ d         ┆ d         │\n",
       "│ str       ┆ str       ┆ ---       ┆ ---       ┆   ┆ ---       ┆ i64      ┆ ---       ┆ ---       │\n",
       "│           ┆           ┆ str       ┆ f64       ┆   ┆ f64       ┆          ┆ str       ┆ str       │\n",
       "╞═══════════╪═══════════╪═══════════╪═══════════╪═══╪═══════════╪══════════╪═══════════╪═══════════╡\n",
       "│ Lego City ┆ lego      ┆ 2016-09-2 ┆ 1253.0    ┆ … ┆ 0.0       ┆ 3442     ┆ UCzWrhkg9 ┆ y5IvyZlzE │\n",
       "│ Lego      ┆ city,lego ┆ 6         ┆           ┆   ┆           ┆          ┆ eK5I8Bm3H ┆ Ls        │\n",
       "│ Police1   ┆ police,le ┆ 00:00:00  ┆           ┆   ┆           ┆          ┆ fV-unA    ┆           │\n",
       "│ Hour Lo…  ┆ go cit…   ┆           ┆           ┆   ┆           ┆          ┆           ┆           │\n",
       "│ Lego City ┆ lego      ┆ 2016-09-2 ┆ 2311.0    ┆ … ┆ 0.0       ┆ 2407     ┆ UCzWrhkg9 ┆ m1agc0qT0 │\n",
       "│ Police    ┆ city,lego ┆ 5         ┆           ┆   ┆           ┆          ┆ eK5I8Bm3H ┆ BY        │\n",
       "│ Lego      ┆ police,le ┆ 00:00:00  ┆           ┆   ┆           ┆          ┆ fV-unA    ┆           │\n",
       "│ Fireman … ┆ go cit…   ┆           ┆           ┆   ┆           ┆          ┆           ┆           │\n",
       "│ Lego Dime ┆ lego      ┆ 2016-09-2 ┆ 5596.0    ┆ … ┆ 1.0       ┆ 1820     ┆ UCzWrhkg9 ┆ rr6tfbBA9 │\n",
       "│ nsions    ┆ city,lego ┆ 4         ┆           ┆   ┆           ┆          ┆ eK5I8Bm3H ┆ iY        │\n",
       "│ Cartoons  ┆ dimension ┆ 00:00:00  ┆           ┆   ┆           ┆          ┆ fV-unA    ┆           │\n",
       "│ Movie…    ┆ s,lego…   ┆           ┆           ┆   ┆           ┆          ┆           ┆           │\n",
       "│ Lego City ┆ lego      ┆ 2016-09-2 ┆ 792.0     ┆ … ┆ 0.0       ┆ 1209     ┆ UCzWrhkg9 ┆ ZGll5_wD9 │\n",
       "│ Police    ┆ city,lego ┆ 1         ┆           ┆   ┆           ┆          ┆ eK5I8Bm3H ┆ Ys        │\n",
       "│ Lego      ┆ city poli ┆ 00:00:00  ┆           ┆   ┆           ┆          ┆ fV-unA    ┆           │\n",
       "│ Fireman … ┆ ce,leg…   ┆           ┆           ┆   ┆           ┆          ┆           ┆           │\n",
       "│ Lego      ┆ lego      ┆ 2016-09-2 ┆ 1.141393e ┆ … ┆ 426.0     ┆ 2053     ┆ UCzWrhkg9 ┆ kYkokQgnu │\n",
       "│ Jurassic  ┆ jurassic  ┆ 1         ┆ 6         ┆   ┆           ┆          ┆ eK5I8Bm3H ┆ 20        │\n",
       "│ World     ┆ world,leg ┆ 00:00:00  ┆           ┆   ┆           ┆          ┆ fV-unA    ┆           │\n",
       "│ Complete  ┆ o city,…  ┆           ┆           ┆   ┆           ┆          ┆           ┆           │\n",
       "│ M…        ┆           ┆           ┆           ┆   ┆           ┆          ┆           ┆           │\n",
       "│ …         ┆ …         ┆ …         ┆ …         ┆ … ┆ …         ┆ …        ┆ …         ┆ …         │\n",
       "│ How To    ┆ cdotveezy ┆ 2018-09-2 ┆ 6505.0    ┆ … ┆ 1.0       ┆ 260      ┆ UCzRFJpgX ┆ fLaFJtgGU │\n",
       "│ Gain      ┆ ,cdotveez ┆ 8         ┆           ┆   ┆           ┆          ┆ BSRoYlZfK ┆ UY        │\n",
       "│ 50,000 XP ┆ y uploads ┆ 00:00:00  ┆           ┆   ┆           ┆          ┆ e0w80w    ┆           │\n",
       "│ A GAME F… ┆ ,sh…      ┆           ┆           ┆   ┆           ┆          ┆           ┆           │\n",
       "│ I Dropped ┆ cdotveezy ┆ 2018-09-2 ┆ 1101.0    ┆ … ┆ 2.0       ┆ 574      ┆ UCzRFJpgX ┆ pbAeRGl-B │\n",
       "│ 20 On His ┆ ,cdotveez ┆ 5         ┆           ┆   ┆           ┆          ┆ BSRoYlZfK ┆ aY        │\n",
       "│ Head?!?!  ┆ y uploads ┆ 00:00:00  ┆           ┆   ┆           ┆          ┆ e0w80w    ┆           │\n",
       "│ 9…        ┆ ,sh…      ┆           ┆           ┆   ┆           ┆          ┆           ┆           │\n",
       "│ Turn Up!! ┆ cdotveezy ┆ 2018-09-2 ┆ 12819.0   ┆ … ┆ 7.0       ┆ 444      ┆ UCzRFJpgX ┆ csHo-yizK │\n",
       "│ Here's My ┆ ,cdotveez ┆ 4         ┆           ┆   ┆           ┆          ┆ BSRoYlZfK ┆ xY        │\n",
       "│ 92        ┆ y uploads ┆ 00:00:00  ┆           ┆   ┆           ┆          ┆ e0w80w    ┆           │\n",
       "│ Overall…  ┆ ,sh…      ┆           ┆           ┆   ┆           ┆          ┆           ┆           │\n",
       "│ Its Time  ┆ cdotveezy ┆ 2018-09-2 ┆ 794.0     ┆ … ┆ 0.0       ┆ 385      ┆ UCzRFJpgX ┆ zMfT8C0Ha │\n",
       "│ To Clutch ┆ ,cdotveez ┆ 1         ┆           ┆   ┆           ┆          ┆ BSRoYlZfK ┆ c8        │\n",
       "│ Up!!!!!   ┆ y uploads ┆ 00:00:00  ┆           ┆   ┆           ┆          ┆ e0w80w    ┆           │\n",
       "│ 91 …      ┆ ,sh…      ┆           ┆           ┆   ┆           ┆          ┆           ┆           │\n",
       "│ What Is   ┆ cdotveezy ┆ 2018-09-2 ┆ 1664.0    ┆ … ┆ 0.0       ┆ 335      ┆ UCzRFJpgX ┆ OfAU595EI │\n",
       "│ This CHEE ┆ ,cdotveez ┆ 0         ┆           ┆   ┆           ┆          ┆ BSRoYlZfK ┆ Es        │\n",
       "│ SE!?!?!   ┆ y uploads ┆ 00:00:00  ┆           ┆   ┆           ┆          ┆ e0w80w    ┆           │\n",
       "│ 91 Ov…    ┆ ,sh…      ┆           ┆           ┆   ┆           ┆          ┆           ┆           │\n",
       "└───────────┴───────────┴───────────┴───────────┴───┴───────────┴──────────┴───────────┴───────────┘"
      ]
     },
     "execution_count": 81,
     "metadata": {},
     "output_type": "execute_result"
    }
   ],
   "source": [
    "columns_to_keep = [\n",
    "    \"categories\",\n",
    "    \"title\",\n",
    "    \"tags\",\n",
    "    \"upload_date\",\n",
    "    \"view_count\",\n",
    "    \"like_count\",\n",
    "    \"dislike_count\",\n",
    "    \"duration\",\n",
    "    \"channel_id\",\n",
    "    \"display_id\",\n",
    "]\n",
    "\n",
    "filtered_gaming_df = (\n",
    "    pl.read_ndjson(VIDEOS_PATH)\n",
    "    .select(columns_to_keep)\n",
    "    .filter(pl.col(\"categories\") == \"Gaming\")\n",
    "    .fill_null(\"\")\n",
    "    .drop(\"categories\")\n",
    ")\n",
    "\n",
    "filtered_gaming_df"
   ]
  },
  {
   "cell_type": "markdown",
   "metadata": {},
   "source": [
    "Now, we can convert our `polar` LazyFrame to a `.parquet` file, because it takes much less space than a `.tsv` file, and improves performance on huge dataframes. "
   ]
  },
  {
   "cell_type": "code",
   "execution_count": 75,
   "metadata": {},
   "outputs": [],
   "source": [
    "filtered_gaming_df.write_parquet(\"data/youniverse/filtered/gaming_videos.parquet\")"
   ]
  },
  {
   "cell_type": "markdown",
   "metadata": {},
   "source": [
    "## Channels\n",
    "\n",
    "Let's see what this dataset looks like."
   ]
  },
  {
   "cell_type": "code",
   "execution_count": 76,
   "metadata": {},
   "outputs": [
    {
     "data": {
      "text/html": [
       "<div><style>\n",
       ".dataframe > thead > tr,\n",
       ".dataframe > tbody > tr {\n",
       "  text-align: right;\n",
       "  white-space: pre-wrap;\n",
       "}\n",
       "</style>\n",
       "<small>shape: (1, 8)</small><table border=\"1\" class=\"dataframe\"><thead><tr><th>category_cc</th><th>join_date</th><th>channel</th><th>name_cc</th><th>subscribers_cc</th><th>videos_cc</th><th>subscriber_rank_sb</th><th>weights</th></tr><tr><td>str</td><td>str</td><td>str</td><td>str</td><td>i64</td><td>i64</td><td>f64</td><td>f64</td></tr></thead><tbody><tr><td>&quot;Gaming&quot;</td><td>&quot;2010-04-29&quot;</td><td>&quot;UC-lHJZR3Gqxm24_Vd_AJ5Yw&quot;</td><td>&quot;PewDiePie&quot;</td><td>101000000</td><td>3956</td><td>3.0</td><td>2.087</td></tr></tbody></table></div>"
      ],
      "text/plain": [
       "shape: (1, 8)\n",
       "┌────────────┬────────────┬────────────┬───────────┬────────────┬───────────┬────────────┬─────────┐\n",
       "│ category_c ┆ join_date  ┆ channel    ┆ name_cc   ┆ subscriber ┆ videos_cc ┆ subscriber ┆ weights │\n",
       "│ c          ┆ ---        ┆ ---        ┆ ---       ┆ s_cc       ┆ ---       ┆ _rank_sb   ┆ ---     │\n",
       "│ ---        ┆ str        ┆ str        ┆ str       ┆ ---        ┆ i64       ┆ ---        ┆ f64     │\n",
       "│ str        ┆            ┆            ┆           ┆ i64        ┆           ┆ f64        ┆         │\n",
       "╞════════════╪════════════╪════════════╪═══════════╪════════════╪═══════════╪════════════╪═════════╡\n",
       "│ Gaming     ┆ 2010-04-29 ┆ UC-lHJZR3G ┆ PewDiePie ┆ 101000000  ┆ 3956      ┆ 3.0        ┆ 2.087   │\n",
       "│            ┆            ┆ qxm24_Vd_A ┆           ┆            ┆           ┆            ┆         │\n",
       "│            ┆            ┆ J5Yw       ┆           ┆            ┆           ┆            ┆         │\n",
       "└────────────┴────────────┴────────────┴───────────┴────────────┴───────────┴────────────┴─────────┘"
      ]
     },
     "execution_count": 76,
     "metadata": {},
     "output_type": "execute_result"
    }
   ],
   "source": [
    "first_channel_df = pl.read_csv(CHANNELS_PATH, separator='\\t', n_rows=1)\n",
    "\n",
    "first_channel_df"
   ]
  },
  {
   "cell_type": "markdown",
   "metadata": {},
   "source": [
    "Now, for our further analysis, we need to keep only the **gaming channels**. Furthermore, the channel ID's and names are needed to identify the channels in the videos dataset. Subscriber and video counts are also mandatory for having statistical insights. Thus, we will keep the following columns:\n",
    "- `channel` is the channel ID to link with the videos dataset. It will be renamed to `channel_id`\n",
    "- `name_cc` is the channel name, is more human-readable. It will be renamed to `channel_name`\n",
    "- `subscribers_cc` and `videos_cc` are key indicators of the channel popularity\n",
    "\n",
    "Since we only focus on gaming channels, we will filter out the other categories, and supress the `category_cc` column. We will also drop the `join_date` column, as it is not really relevant for our work, and the `subscriber_rank_sb` and `weight_sb` columns.\n"
   ]
  },
  {
   "cell_type": "code",
   "execution_count": 77,
   "metadata": {},
   "outputs": [
    {
     "data": {
      "text/html": [
       "<div><style>\n",
       ".dataframe > thead > tr,\n",
       ".dataframe > tbody > tr {\n",
       "  text-align: right;\n",
       "  white-space: pre-wrap;\n",
       "}\n",
       "</style>\n",
       "<small>shape: (20_143, 4)</small><table border=\"1\" class=\"dataframe\"><thead><tr><th>channel_id</th><th>channel_name</th><th>subscribers</th><th>videos</th></tr><tr><td>str</td><td>str</td><td>i64</td><td>i64</td></tr></thead><tbody><tr><td>&quot;UC-lHJZR3Gqxm24_Vd_AJ5Yw&quot;</td><td>&quot;PewDiePie&quot;</td><td>101000000</td><td>3956</td></tr><tr><td>&quot;UCEdvpU2pFRCVqU6yIPyTpMQ&quot;</td><td>&quot;Marshmello&quot;</td><td>39100000</td><td>366</td></tr><tr><td>&quot;UC7_YxT-KID8kRbqZo7MyscQ&quot;</td><td>&quot;Markiplier&quot;</td><td>24400000</td><td>4484</td></tr><tr><td>&quot;UCKqH_9mk1waLgBiL2vT5b9g&quot;</td><td>&quot;VanossGaming&quot;</td><td>24800000</td><td>1079</td></tr><tr><td>&quot;UCYzPXprvl5Y-Sf0g4vX-m6g&quot;</td><td>&quot;jacksepticeye&quot;</td><td>22833014</td><td>4255</td></tr><tr><td>&hellip;</td><td>&hellip;</td><td>&hellip;</td><td>&hellip;</td></tr><tr><td>&quot;UCUhejRdj-jaI5H8u4t4ra_Q&quot;</td><td>&quot;Lots Of Gamer Pro&quot;</td><td>10000</td><td>40</td></tr><tr><td>&quot;UCfdiBkNZbAFuAsfiEgNcA5w&quot;</td><td>&quot;Kurojaki Kaoru&quot;</td><td>10000</td><td>107</td></tr><tr><td>&quot;UC2oRkTPQk0-czP04VOYigxg&quot;</td><td>&quot;BLITZFIRE911&quot;</td><td>10000</td><td>305</td></tr><tr><td>&quot;UC-njwIOSrdj_RJd4JWXMrcA&quot;</td><td>&quot;Crimson Heroes&quot;</td><td>10000</td><td>425</td></tr><tr><td>&quot;UCTsxFTIUs8vFDzGccDm6i7Q&quot;</td><td>&quot;Omni H&quot;</td><td>10000</td><td>475</td></tr></tbody></table></div>"
      ],
      "text/plain": [
       "shape: (20_143, 4)\n",
       "┌──────────────────────────┬───────────────────┬─────────────┬────────┐\n",
       "│ channel_id               ┆ channel_name      ┆ subscribers ┆ videos │\n",
       "│ ---                      ┆ ---               ┆ ---         ┆ ---    │\n",
       "│ str                      ┆ str               ┆ i64         ┆ i64    │\n",
       "╞══════════════════════════╪═══════════════════╪═════════════╪════════╡\n",
       "│ UC-lHJZR3Gqxm24_Vd_AJ5Yw ┆ PewDiePie         ┆ 101000000   ┆ 3956   │\n",
       "│ UCEdvpU2pFRCVqU6yIPyTpMQ ┆ Marshmello        ┆ 39100000    ┆ 366    │\n",
       "│ UC7_YxT-KID8kRbqZo7MyscQ ┆ Markiplier        ┆ 24400000    ┆ 4484   │\n",
       "│ UCKqH_9mk1waLgBiL2vT5b9g ┆ VanossGaming      ┆ 24800000    ┆ 1079   │\n",
       "│ UCYzPXprvl5Y-Sf0g4vX-m6g ┆ jacksepticeye     ┆ 22833014    ┆ 4255   │\n",
       "│ …                        ┆ …                 ┆ …           ┆ …      │\n",
       "│ UCUhejRdj-jaI5H8u4t4ra_Q ┆ Lots Of Gamer Pro ┆ 10000       ┆ 40     │\n",
       "│ UCfdiBkNZbAFuAsfiEgNcA5w ┆ Kurojaki Kaoru    ┆ 10000       ┆ 107    │\n",
       "│ UC2oRkTPQk0-czP04VOYigxg ┆ BLITZFIRE911      ┆ 10000       ┆ 305    │\n",
       "│ UC-njwIOSrdj_RJd4JWXMrcA ┆ Crimson Heroes    ┆ 10000       ┆ 425    │\n",
       "│ UCTsxFTIUs8vFDzGccDm6i7Q ┆ Omni H            ┆ 10000       ┆ 475    │\n",
       "└──────────────────────────┴───────────────────┴─────────────┴────────┘"
      ]
     },
     "execution_count": 77,
     "metadata": {},
     "output_type": "execute_result"
    }
   ],
   "source": [
    "channels_df = pl.read_csv(CHANNELS_PATH, separator='\\t')\n",
    "\n",
    "gaming_channels_df = channels_df.filter(pl.col(\"category_cc\") == \"Gaming\").select([\n",
    "    \"channel\",\n",
    "    \"name_cc\",\n",
    "    \"subscribers_cc\",\n",
    "    \"videos_cc\",\n",
    "]).rename({\n",
    "    \"channel\": \"channel_id\",\n",
    "    \"name_cc\": \"channel_name\",\n",
    "    \"subscribers_cc\": \"subscribers\",\n",
    "    \"videos_cc\": \"videos\",\n",
    "})\n",
    "\n",
    "gaming_channels_df"
   ]
  },
  {
   "cell_type": "markdown",
   "metadata": {},
   "source": [
    "This dataframe is approximately **20000 rows-long**. We can now write the filtered dataset to a `tsv` file."
   ]
  },
  {
   "cell_type": "code",
   "execution_count": 78,
   "metadata": {},
   "outputs": [],
   "source": [
    "gaming_channels_df.write_csv('data/youniverse/filtered/gaming_channels.tsv', separator='\\t')"
   ]
  },
  {
   "cell_type": "markdown",
   "metadata": {},
   "source": [
    "## Time-series\n",
    "\n"
   ]
  },
  {
   "cell_type": "markdown",
   "metadata": {},
   "source": [
    "Our next step of pre-filtering is to treat the **time-series** dataset. It contains the time-series of views and subscribers for each channel. Each data point represents the **view and subsciber count** for a given week. Here is what it looks like:"
   ]
  },
  {
   "cell_type": "code",
   "execution_count": 79,
   "metadata": {},
   "outputs": [
    {
     "data": {
      "text/html": [
       "<div><style>\n",
       ".dataframe > thead > tr,\n",
       ".dataframe > tbody > tr {\n",
       "  text-align: right;\n",
       "  white-space: pre-wrap;\n",
       "}\n",
       "</style>\n",
       "<small>shape: (1, 10)</small><table border=\"1\" class=\"dataframe\"><thead><tr><th>channel</th><th>category</th><th>datetime</th><th>views</th><th>delta_views</th><th>subs</th><th>delta_subs</th><th>videos</th><th>delta_videos</th><th>activity</th></tr><tr><td>str</td><td>str</td><td>str</td><td>f64</td><td>f64</td><td>f64</td><td>f64</td><td>i64</td><td>i64</td><td>i64</td></tr></thead><tbody><tr><td>&quot;UCBJuEqXfXTdcPSbGO9qqn1g&quot;</td><td>&quot;Film and Animation&quot;</td><td>&quot;2017-07-03 00:00:00&quot;</td><td>202494.555556</td><td>0.0</td><td>650.222222</td><td>0.0</td><td>5</td><td>0</td><td>3</td></tr></tbody></table></div>"
      ],
      "text/plain": [
       "shape: (1, 10)\n",
       "┌────────────┬────────────┬────────────┬───────────┬───┬───────────┬────────┬───────────┬──────────┐\n",
       "│ channel    ┆ category   ┆ datetime   ┆ views     ┆ … ┆ delta_sub ┆ videos ┆ delta_vid ┆ activity │\n",
       "│ ---        ┆ ---        ┆ ---        ┆ ---       ┆   ┆ s         ┆ ---    ┆ eos       ┆ ---      │\n",
       "│ str        ┆ str        ┆ str        ┆ f64       ┆   ┆ ---       ┆ i64    ┆ ---       ┆ i64      │\n",
       "│            ┆            ┆            ┆           ┆   ┆ f64       ┆        ┆ i64       ┆          │\n",
       "╞════════════╪════════════╪════════════╪═══════════╪═══╪═══════════╪════════╪═══════════╪══════════╡\n",
       "│ UCBJuEqXfX ┆ Film and   ┆ 2017-07-03 ┆ 202494.55 ┆ … ┆ 0.0       ┆ 5      ┆ 0         ┆ 3        │\n",
       "│ TdcPSbGO9q ┆ Animation  ┆ 00:00:00   ┆ 5556      ┆   ┆           ┆        ┆           ┆          │\n",
       "│ qn1g       ┆            ┆            ┆           ┆   ┆           ┆        ┆           ┆          │\n",
       "└────────────┴────────────┴────────────┴───────────┴───┴───────────┴────────┴───────────┴──────────┘"
      ]
     },
     "execution_count": 79,
     "metadata": {},
     "output_type": "execute_result"
    }
   ],
   "source": [
    "first_timeseries_df = pl.read_csv(TIMESERIES_PATH, separator='\\t', n_rows=1)\n",
    "\n",
    "first_timeseries_df"
   ]
  },
  {
   "cell_type": "markdown",
   "metadata": {},
   "source": [
    "For our work, we will keep the following columns, only for the **gaming** channels:\n",
    "- `channel` to link with the videos and channels datasets, it will be renamed to `channel_id`\n",
    "- `datetime` to track the time of the data point\t\n",
    "- `views`, `subs` and `videos` to track the global statistics of the channel\n",
    "- `delta_views`, `delta_subs` and `delta_videos` to track the evolution of the channel\n",
    "\n",
    "However, the columns we are not interested are `category` because it will always be **Gaming**, and `activity` which represents the number of videos uploaded in the last 15 days, and we suppress them.  "
   ]
  },
  {
   "cell_type": "code",
   "execution_count": 84,
   "metadata": {},
   "outputs": [
    {
     "data": {
      "text/html": [
       "<div><style>\n",
       ".dataframe > thead > tr,\n",
       ".dataframe > tbody > tr {\n",
       "  text-align: right;\n",
       "  white-space: pre-wrap;\n",
       "}\n",
       "</style>\n",
       "<small>shape: (2_825_331, 8)</small><table border=\"1\" class=\"dataframe\"><thead><tr><th>channel_id</th><th>datetime</th><th>views</th><th>delta_views</th><th>subs</th><th>delta_subs</th><th>videos</th><th>delta_videos</th></tr><tr><td>str</td><td>str</td><td>f64</td><td>f64</td><td>f64</td><td>f64</td><td>i64</td><td>i64</td></tr></thead><tbody><tr><td>&quot;UCNNLaOkE-rcthxNssSHET2A&quot;</td><td>&quot;2017-05-15 00:00:00&quot;</td><td>21755.111111</td><td>19051.111111</td><td>4980.444444</td><td>0.0</td><td>4</td><td>0</td></tr><tr><td>&quot;UCNNLaOkE-rcthxNssSHET2A&quot;</td><td>&quot;2017-05-22 00:00:00&quot;</td><td>63875.75</td><td>42120.638889</td><td>7588.25</td><td>2607.805556</td><td>6</td><td>2</td></tr><tr><td>&quot;UCNNLaOkE-rcthxNssSHET2A&quot;</td><td>&quot;2017-05-29 00:00:00&quot;</td><td>131038.375</td><td>67162.625</td><td>11309.125</td><td>3720.875</td><td>9</td><td>3</td></tr><tr><td>&quot;UCNNLaOkE-rcthxNssSHET2A&quot;</td><td>&quot;2017-06-05 00:00:00&quot;</td><td>216735.0</td><td>85696.625</td><td>19353.0</td><td>8043.875</td><td>13</td><td>4</td></tr><tr><td>&quot;UCNNLaOkE-rcthxNssSHET2A&quot;</td><td>&quot;2017-06-12 00:00:00&quot;</td><td>396499.666667</td><td>179764.666667</td><td>22546.555556</td><td>3193.555556</td><td>16</td><td>3</td></tr><tr><td>&hellip;</td><td>&hellip;</td><td>&hellip;</td><td>&hellip;</td><td>&hellip;</td><td>&hellip;</td><td>&hellip;</td><td>&hellip;</td></tr><tr><td>&quot;UC0UeVA9YHpOEr_Ng442xiRw&quot;</td><td>&quot;2019-09-02 00:00:00&quot;</td><td>6.0129e6</td><td>232418.277778</td><td>61268.611111</td><td>1305.611111</td><td>278</td><td>2</td></tr><tr><td>&quot;UC0UeVA9YHpOEr_Ng442xiRw&quot;</td><td>&quot;2019-09-09 00:00:00&quot;</td><td>6.2446e6</td><td>231640.888889</td><td>62631.666667</td><td>1363.055556</td><td>287</td><td>9</td></tr><tr><td>&quot;UC0UeVA9YHpOEr_Ng442xiRw&quot;</td><td>&quot;2019-09-16 00:00:00&quot;</td><td>6480901.6</td><td>236322.933333</td><td>64010.0</td><td>1378.333333</td><td>294</td><td>7</td></tr><tr><td>&quot;UC0UeVA9YHpOEr_Ng442xiRw&quot;</td><td>&quot;2019-09-23 00:00:00&quot;</td><td>6745316.8</td><td>264415.2</td><td>65480.0</td><td>1470.0</td><td>301</td><td>7</td></tr><tr><td>&quot;UC0UeVA9YHpOEr_Ng442xiRw&quot;</td><td>&quot;2019-09-30 00:00:00&quot;</td><td>6.9877e6</td><td>242420.771429</td><td>66542.857143</td><td>1062.857143</td><td>308</td><td>7</td></tr></tbody></table></div>"
      ],
      "text/plain": [
       "shape: (2_825_331, 8)\n",
       "┌────────────┬────────────┬────────────┬────────────┬────────────┬────────────┬────────┬───────────┐\n",
       "│ channel_id ┆ datetime   ┆ views      ┆ delta_view ┆ subs       ┆ delta_subs ┆ videos ┆ delta_vid │\n",
       "│ ---        ┆ ---        ┆ ---        ┆ s          ┆ ---        ┆ ---        ┆ ---    ┆ eos       │\n",
       "│ str        ┆ str        ┆ f64        ┆ ---        ┆ f64        ┆ f64        ┆ i64    ┆ ---       │\n",
       "│            ┆            ┆            ┆ f64        ┆            ┆            ┆        ┆ i64       │\n",
       "╞════════════╪════════════╪════════════╪════════════╪════════════╪════════════╪════════╪═══════════╡\n",
       "│ UCNNLaOkE- ┆ 2017-05-15 ┆ 21755.1111 ┆ 19051.1111 ┆ 4980.44444 ┆ 0.0        ┆ 4      ┆ 0         │\n",
       "│ rcthxNssSH ┆ 00:00:00   ┆ 11         ┆ 11         ┆ 4          ┆            ┆        ┆           │\n",
       "│ ET2A       ┆            ┆            ┆            ┆            ┆            ┆        ┆           │\n",
       "│ UCNNLaOkE- ┆ 2017-05-22 ┆ 63875.75   ┆ 42120.6388 ┆ 7588.25    ┆ 2607.80555 ┆ 6      ┆ 2         │\n",
       "│ rcthxNssSH ┆ 00:00:00   ┆            ┆ 89         ┆            ┆ 6          ┆        ┆           │\n",
       "│ ET2A       ┆            ┆            ┆            ┆            ┆            ┆        ┆           │\n",
       "│ UCNNLaOkE- ┆ 2017-05-29 ┆ 131038.375 ┆ 67162.625  ┆ 11309.125  ┆ 3720.875   ┆ 9      ┆ 3         │\n",
       "│ rcthxNssSH ┆ 00:00:00   ┆            ┆            ┆            ┆            ┆        ┆           │\n",
       "│ ET2A       ┆            ┆            ┆            ┆            ┆            ┆        ┆           │\n",
       "│ UCNNLaOkE- ┆ 2017-06-05 ┆ 216735.0   ┆ 85696.625  ┆ 19353.0    ┆ 8043.875   ┆ 13     ┆ 4         │\n",
       "│ rcthxNssSH ┆ 00:00:00   ┆            ┆            ┆            ┆            ┆        ┆           │\n",
       "│ ET2A       ┆            ┆            ┆            ┆            ┆            ┆        ┆           │\n",
       "│ UCNNLaOkE- ┆ 2017-06-12 ┆ 396499.666 ┆ 179764.666 ┆ 22546.5555 ┆ 3193.55555 ┆ 16     ┆ 3         │\n",
       "│ rcthxNssSH ┆ 00:00:00   ┆ 667        ┆ 667        ┆ 56         ┆ 6          ┆        ┆           │\n",
       "│ ET2A       ┆            ┆            ┆            ┆            ┆            ┆        ┆           │\n",
       "│ …          ┆ …          ┆ …          ┆ …          ┆ …          ┆ …          ┆ …      ┆ …         │\n",
       "│ UC0UeVA9YH ┆ 2019-09-02 ┆ 6.0129e6   ┆ 232418.277 ┆ 61268.6111 ┆ 1305.61111 ┆ 278    ┆ 2         │\n",
       "│ pOEr_Ng442 ┆ 00:00:00   ┆            ┆ 778        ┆ 11         ┆ 1          ┆        ┆           │\n",
       "│ xiRw       ┆            ┆            ┆            ┆            ┆            ┆        ┆           │\n",
       "│ UC0UeVA9YH ┆ 2019-09-09 ┆ 6.2446e6   ┆ 231640.888 ┆ 62631.6666 ┆ 1363.05555 ┆ 287    ┆ 9         │\n",
       "│ pOEr_Ng442 ┆ 00:00:00   ┆            ┆ 889        ┆ 67         ┆ 6          ┆        ┆           │\n",
       "│ xiRw       ┆            ┆            ┆            ┆            ┆            ┆        ┆           │\n",
       "│ UC0UeVA9YH ┆ 2019-09-16 ┆ 6480901.6  ┆ 236322.933 ┆ 64010.0    ┆ 1378.33333 ┆ 294    ┆ 7         │\n",
       "│ pOEr_Ng442 ┆ 00:00:00   ┆            ┆ 333        ┆            ┆ 3          ┆        ┆           │\n",
       "│ xiRw       ┆            ┆            ┆            ┆            ┆            ┆        ┆           │\n",
       "│ UC0UeVA9YH ┆ 2019-09-23 ┆ 6745316.8  ┆ 264415.2   ┆ 65480.0    ┆ 1470.0     ┆ 301    ┆ 7         │\n",
       "│ pOEr_Ng442 ┆ 00:00:00   ┆            ┆            ┆            ┆            ┆        ┆           │\n",
       "│ xiRw       ┆            ┆            ┆            ┆            ┆            ┆        ┆           │\n",
       "│ UC0UeVA9YH ┆ 2019-09-30 ┆ 6.9877e6   ┆ 242420.771 ┆ 66542.8571 ┆ 1062.85714 ┆ 308    ┆ 7         │\n",
       "│ pOEr_Ng442 ┆ 00:00:00   ┆            ┆ 429        ┆ 43         ┆ 3          ┆        ┆           │\n",
       "│ xiRw       ┆            ┆            ┆            ┆            ┆            ┆        ┆           │\n",
       "└────────────┴────────────┴────────────┴────────────┴────────────┴────────────┴────────┴───────────┘"
      ]
     },
     "execution_count": 84,
     "metadata": {},
     "output_type": "execute_result"
    }
   ],
   "source": [
    "timeseries_df = pl.read_csv(TIMESERIES_PATH, separator=\"\\t\")\n",
    "\n",
    "filtered_timeseries_df = timeseries_df.filter(pl.col(\"category\") == \"Gaming\").select([\n",
    "    \"channel\",\n",
    "    \"datetime\",\n",
    "    \"views\",\n",
    "    \"delta_views\",\n",
    "    \"subs\",\n",
    "    \"delta_subs\",\n",
    "    \"videos\",\n",
    "    \"delta_videos\"\n",
    "]).rename({\"channel\": \"channel_id\"})\n",
    "\n",
    "filtered_timeseries_df"
   ]
  },
  {
   "cell_type": "markdown",
   "metadata": {},
   "source": [
    "For the same reasons as mentioned above, we will write this dataset to a `.parquet` file."
   ]
  },
  {
   "cell_type": "code",
   "execution_count": 85,
   "metadata": {},
   "outputs": [],
   "source": [
    "filtered_timeseries_df.write_parquet(\"data/youniverse/filtered/gaming_timeseries.parquet\")"
   ]
  },
  {
   "cell_type": "markdown",
   "metadata": {},
   "source": [
    "## Comments\n",
    "\n",
    "Now is the time to handle the **biggest** dataset of our work: the **comments**. Here is what a comment looks like in our dataset."
   ]
  },
  {
   "cell_type": "code",
   "execution_count": 37,
   "metadata": {},
   "outputs": [
    {
     "data": {
      "text/html": [
       "<div><style>\n",
       ".dataframe > thead > tr,\n",
       ".dataframe > tbody > tr {\n",
       "  text-align: right;\n",
       "  white-space: pre-wrap;\n",
       "}\n",
       "</style>\n",
       "<small>shape: (1, 4)</small><table border=\"1\" class=\"dataframe\"><thead><tr><th>author</th><th>video_id</th><th>likes</th><th>replies</th></tr><tr><td>i64</td><td>str</td><td>i64</td><td>i64</td></tr></thead><tbody><tr><td>1</td><td>&quot;Gkb1QMHrGvA&quot;</td><td>2</td><td>0</td></tr></tbody></table></div>"
      ],
      "text/plain": [
       "shape: (1, 4)\n",
       "┌────────┬─────────────┬───────┬─────────┐\n",
       "│ author ┆ video_id    ┆ likes ┆ replies │\n",
       "│ ---    ┆ ---         ┆ ---   ┆ ---     │\n",
       "│ i64    ┆ str         ┆ i64   ┆ i64     │\n",
       "╞════════╪═════════════╪═══════╪═════════╡\n",
       "│ 1      ┆ Gkb1QMHrGvA ┆ 2     ┆ 0       │\n",
       "└────────┴─────────────┴───────┴─────────┘"
      ]
     },
     "execution_count": 37,
     "metadata": {},
     "output_type": "execute_result"
    }
   ],
   "source": [
    "first_comment_df = pl.read_csv(COMMENTS_PATH, separator='\\t', n_rows=1)\n",
    "\n",
    "first_comment_df"
   ]
  },
  {
   "cell_type": "markdown",
   "metadata": {},
   "source": [
    "The work that needs to be done is to filter out the comments that are **not related** to gaming videos. To do so, we thought of having a set containing all the **gaming video IDs**, and checking for each comment if its video ID is in this list. If it is, we keep the comment, otherwise we drop it.\n",
    "\n",
    "The columns that we will keep are:\n",
    "- `author`, which is the **author's ID**, to ensure we keep track of which user commented on which video\n",
    "- `video_id`, which is the **video's ID**, to link the comments to the videos\n",
    "\n",
    "The `likes` and `replies` columns are not needed for our graphs' generations so we will drop them.\n",
    "\n",
    "Firstly, we generate the set of **gaming video IDs**."
   ]
  },
  {
   "cell_type": "code",
   "execution_count": null,
   "metadata": {},
   "outputs": [
    {
     "data": {
      "text/plain": [
       "21057"
      ]
     },
     "execution_count": 92,
     "metadata": {},
     "output_type": "execute_result"
    }
   ],
   "source": [
    "gaming_display_ids = set(filtered_gaming_df.to_pandas()[\"display_id\"])"
   ]
  },
  {
   "cell_type": "markdown",
   "metadata": {},
   "source": [
    "We then filter out the comments that are **not related** to gaming videos. Finally, we save the filtered dataset to a `.parquet` file."
   ]
  },
  {
   "cell_type": "code",
   "execution_count": 95,
   "metadata": {},
   "outputs": [],
   "source": [
    "dfs = []\n",
    "batch_size = 100_000\n",
    "total_rows = 2_000_000\n",
    "\n",
    "batched_reader = pl.read_csv_batched(COMMENTS_PATH, separator='\\t', batch_size=batch_size)\n",
    "num_batches = total_rows // batch_size\n",
    "batches = batched_reader.next_batches(num_batches)\n",
    "\n",
    "for chunk in batches:\n",
    "    filtered_chunk = chunk.filter(pl.col(\"video_id\").is_in(gaming_display_ids))\n",
    "    dfs.append(filtered_chunk)\n",
    "\n",
    "gaming_comments_df = pl.concat(dfs)\n",
    "\n",
    "gaming_comments_df.write_parquet(\"data/youniverse/filtered/gaming_comments.parquet\")\n"
   ]
  }
 ],
 "metadata": {
  "kernelspec": {
   "display_name": "base",
   "language": "python",
   "name": "python3"
  },
  "language_info": {
   "codemirror_mode": {
    "name": "ipython",
    "version": 3
   },
   "file_extension": ".py",
   "mimetype": "text/x-python",
   "name": "python",
   "nbconvert_exporter": "python",
   "pygments_lexer": "ipython3",
   "version": "3.10.15"
  }
 },
 "nbformat": 4,
 "nbformat_minor": 2
}
