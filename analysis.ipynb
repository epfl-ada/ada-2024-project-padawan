{
 "cells": [
  {
   "cell_type": "markdown",
   "metadata": {},
   "source": [
    "# Project Milestone 2\n",
    "> CS-401 - Applied Data Analysis\n",
    "\n",
    "> *Group Padawan - Fall 2024*\n",
    "\n",
    ">*Maxime Ducourau*, *Mehdi Zoghlami*, *Léopold Henry*, *Martin Catheland*, *Jean Perbet*\n",
    "\n",
    "This notebook is an exploratory analysis of the [YouNiverse](https://zenodo.org/records/4650046) dataset, which contains data about **137k** english-speaking [YouTube](https://youtube.com) channels and their **73M** videos, uploaded between **2005** and **2019**. \n",
    "\n",
    "We chose to focus on the **gaming** category, which is one of the most popular on YouTube. We will try to adress the following **research questions**:\n",
    "- What are the most popular games on YouTube ?\n",
    "- Is there a link between real-world gaming events and releases, and the popularity of games on YouTube ?\n",
    "- What are the most linked communities in the gaming category ?\n",
    "\n",
    "Due to the considerable size of the dataset, we pre-filtered the original dataset to only keep the **gaming videos**, their **comments**, the **channels** that have uploaded at least one video in the gaming category and their **time-series**. We also took advantage of it to remove some useless / heavy-weight fields.\n",
    "\n",
    "This pre-filtering is available in the notebook `prefiltering.ipynb`. Below is a summary of the datasets at our disposal, after pre-filtering.\n",
    "\n",
    "| File | Description | Fields |\n",
    "| --- | --- | -- |\n",
    "| `gaming_videos.tsv` | Videos | `title`, `tags`, `upload_date`, `view_count`, `like_count`, `dislike_count`, `duration`, `channel_id`, `display_id` |\n",
    "| `gaming_comments.tsv` | Comments | `author`, `video_id`|\n",
    "| `gaming_channels.tsv` | Channels | `channel_id`, `channel_name`, `subscribers` |\n",
    "| `gaming_timeseries.tsv` | Channels time-series | `channel_id`, `datetime`, `views`, `delta_views`, `subs`, `delta_subs`, `videos`, `delta_videos` |\n",
    "\n",
    "We'll divide our analysis into the previously mentioned datasets. Let's first load the libraries and create the constants we will need later.\n",
    "\n",
    "It is important to notice that we will use the [`polars`](https://pola.rs) library throughout this notebook, which is a blazingly fast DataFrame library implemented in Rust and available in Python. It provided *lazy* operations, which are usefult not to load the entire dataset in memory."
   ]
  },
  {
   "cell_type": "code",
   "execution_count": 1,
   "metadata": {},
   "outputs": [],
   "source": [
    "# data frames\n",
    "import pandas as pd\n",
    "import polars as pl\n",
    "\n",
    "# math\n",
    "import numpy as np\n",
    "\n",
    "# visualization\n",
    "import matplotlib.pyplot as plt\n",
    "\n",
    "# text processing\n",
    "import string\n",
    "\n",
    "# progress tracking\n",
    "from tqdm import tqdm\n",
    "tqdm.pandas()\n",
    "\n",
    "# turn off warnings\n",
    "import warnings\n",
    "warnings.filterwarnings(\"ignore\")\n",
    "\n",
    "# data paths\n",
    "VIDEOS_PATH = \"data/youniverse/filtered/gaming_videos.tsv\"\n",
    "CHANNELS_PATH =  \"data/youniverse/filtered/gaming_channels.tsv\"\n",
    "TIMESERIES_PATH = \"data/youniverse/filtered/gaming_timeseries.tsv\"\n",
    "COMMENTS_PATH =  \"data/youniverse/filtered/gaming_comments.tsv\"\n",
    "\n",
    "# random seed\n",
    "RANDOM_STATE = 1"
   ]
  },
  {
   "cell_type": "markdown",
   "metadata": {},
   "source": [
    "### Video metadata\n",
    "\n",
    "Let's dive into the **videos metadata**."
   ]
  },
  {
   "cell_type": "code",
   "execution_count": null,
   "metadata": {},
   "outputs": [],
   "source": [
    "videos_df = vaex.open(\"yt_gaming\")"
   ]
  },
  {
   "cell_type": "markdown",
   "metadata": {},
   "source": [
    "#### Statistics\n",
    "\n",
    "Great ! Now, let's get some insights about our data, starting with the number of gaming videos we have at our disposal."
   ]
  },
  {
   "cell_type": "code",
   "execution_count": 10,
   "metadata": {},
   "outputs": [],
   "source": [
    "videos_df.select(pl.len()).collect().item()"
   ]
  },
  {
   "cell_type": "markdown",
   "metadata": {},
   "source": [
    "We have more than **13.5 million** videos, that's quite a good knowledge base ! Let's get some statistics, such as the mean **number of views** and **duration**."
   ]
  },
  {
   "cell_type": "code",
   "execution_count": null,
   "metadata": {},
   "outputs": [],
   "source": [
    "int(videos_df.select().mean().collect().item())"
   ]
  },
  {
   "cell_type": "code",
   "execution_count": 5,
   "metadata": {},
   "outputs": [],
   "source": [
    "int(gaming_df['duration'].mean())"
   ]
  },
  {
   "cell_type": "markdown",
   "metadata": {},
   "source": [
    "It's interesting to see that, **on average**, between may 2005 and october 2019, the ~136k english channels having more than 10k followers and 10 videos have ~76k views per video, and their videos last ~24 minutes.\n",
    "\n",
    "Let's try to visualize the distribution of the number of views and the duration of the videos. We'll create a sample of $5\\%$ of the data to avoid runtime issues, while still being representative of the whole dataset."
   ]
  },
  {
   "cell_type": "code",
   "execution_count": 6,
   "metadata": {},
   "outputs": [],
   "source": [
    "sample_df = gaming_df.sample(frac=0.05, random_state=RANDOM_STATE)\n",
    "print(f'There are {len(sample_df)} videos in the sample dataset.')"
   ]
  },
  {
   "cell_type": "markdown",
   "metadata": {},
   "source": [
    "We convert back our `vaex` DataFrame to a `pandas` DataFrame to have more control over visualization."
   ]
  },
  {
   "cell_type": "code",
   "execution_count": 7,
   "metadata": {},
   "outputs": [],
   "source": [
    "pandas_sample_df = sample_df.to_pandas_df()"
   ]
  },
  {
   "cell_type": "code",
   "execution_count": 8,
   "metadata": {},
   "outputs": [],
   "source": [
    "plt.figure(figsize=(10, 6))\n",
    "plt.hist(pandas_sample_df['duration'], bins=200, range=(0, pandas_sample_df['duration'].quantile(0.95)), color='skyblue', edgecolor='black')\n",
    "plt.xlabel('Video Duration (seconds)')\n",
    "plt.ylabel('Count')\n",
    "plt.title('Distribution of Video Duration');"
   ]
  },
  {
   "cell_type": "code",
   "execution_count": 9,
   "metadata": {},
   "outputs": [],
   "source": [
    "plt.figure(figsize=(10, 6))\n",
    "plt.hist(pandas_sample_df['view_count'], bins=10, range=(0, pandas_sample_df['view_count'].quantile(0.95)), color='skyblue', edgecolor='black')\n",
    "plt.xlabel('Views')\n",
    "plt.ylabel('Count')\n",
    "plt.title('Distribution of Views)');"
   ]
  },
  {
   "cell_type": "markdown",
   "metadata": {},
   "source": [
    "Now, let's visualize the distribution accross time of the **upload date** of our gaming videos."
   ]
  },
  {
   "cell_type": "code",
   "execution_count": 10,
   "metadata": {},
   "outputs": [],
   "source": [
    "pandas_sample_df[\"upload_date\"] = pd.to_datetime(pandas_sample_df[\"upload_date\"])\n",
    "pandas_sample_df['year_month'] = pandas_sample_df['upload_date'].dt.to_period('M')\n",
    "monthly_counts = pandas_sample_df['year_month'].value_counts().sort_index()\n",
    "\n",
    "plt.figure(figsize=(10, 6))\n",
    "monthly_counts.plot(kind='line')\n",
    "plt.xlim(right=pd.Timestamp('2019-08-31'))\n",
    "plt.xlabel('Upload Date')\n",
    "plt.ylabel('Count')\n",
    "plt.title('Distribution of Upload Dates')\n",
    "plt.xticks(rotation=45);\n"
   ]
  },
  {
   "cell_type": "markdown",
   "metadata": {},
   "source": [
    "It follows the general trend of YouTube, which **increasing uploads** over time.\n",
    "\n",
    "## Most common tags & titles\n",
    "\n",
    "Now, let's dive deeper into our `title` and `tags` field. We noticed that the `tags` field is a list of tags, where they're separated by a comma. What would be super interesting to do is extracting all different tags and see which ones are the most common. Since we start working with the whole dataset again, we take our `vaex` DataFrame."
   ]
  },
  {
   "cell_type": "code",
   "execution_count": 11,
   "metadata": {},
   "outputs": [],
   "source": [
    "tag_counts = gaming_df['tags'].str.lower().str.split(',').value_counts()\n",
    "tag_counts.head(15)"
   ]
  },
  {
   "cell_type": "markdown",
   "metadata": {},
   "source": [
    "Very interesting ! We can already see that `minecraft` is tagged on a huge number of videos.\n",
    "\n",
    "Let's apply the same methodology to `title` filed, but his time splitting the words by space."
   ]
  },
  {
   "cell_type": "code",
   "execution_count": 12,
   "metadata": {},
   "outputs": [],
   "source": [
    "title_counts = gaming_df['title'].str.lower().str.split().value_counts()\n",
    "title_counts.head(15)"
   ]
  },
  {
   "cell_type": "markdown",
   "metadata": {},
   "source": [
    "As we can see, this is less representative. We can try to check some famous games in the `tag_counts` to evaluate their interest."
   ]
  },
  {
   "cell_type": "code",
   "execution_count": 13,
   "metadata": {},
   "outputs": [],
   "source": [
    "print(f'Number of tags containing \"fifa\": {tag_counts[\"fifa\"]}')\n",
    "print(f'Number of tags containing \"minecraft\": {tag_counts[\"minecraft\"]}')\n",
    "print(f'Number of tags containing \"league of legends\": {tag_counts[\"league of legends\"]}')"
   ]
  },
  {
   "cell_type": "markdown",
   "metadata": {},
   "source": [
    "## Video games dataset\n",
    "\n",
    " Now, we will cross our dataset with another one, containing an almost-comprehensive list of more than **41k** unique commercial video games. It is available [here](https://www.kaggle.com/datasets/matheusfonsecachaves/popular-video-games). So as to keep this study manageable, we will only focus on the first **~1k** most popular games, since we assume they represent the vast majority of YouTube gaming videos.\n",
    " \n",
    "Let's load and filter out the dataset."
   ]
  },
  {
   "cell_type": "code",
   "execution_count": 14,
   "metadata": {},
   "outputs": [],
   "source": [
    "games_df = pd.read_csv('data/games.csv', index_col=0).drop_duplicates(\"Title\").reset_index(drop=True)\n",
    "games_df.head(3)"
   ]
  },
  {
   "cell_type": "markdown",
   "metadata": {},
   "source": [
    "We'll use the `Plays` feature to estimate the popularity of the games, and we'll use a cutoff of **2k** games to keep."
   ]
  },
  {
   "cell_type": "code",
   "execution_count": 15,
   "metadata": {},
   "outputs": [],
   "source": [
    "cutoff = 2000\n",
    "\n",
    "games_df[\"Plays_Numeric\"] = games_df[\"Plays\"].apply(lambda x: float(x.replace('k', '').replace('K', '')) * 1000 if \"k\" in x or \"K\" in x else float(x))\n",
    "games_df = games_df.sort_values(by=\"Plays_Numeric\", ascending=False).drop(columns=[\"Plays_Numeric\"])\n",
    "games_df = games_df.iloc[:cutoff]"
   ]
  },
  {
   "cell_type": "markdown",
   "metadata": {},
   "source": [
    "Then, we'll remove game names that are too short and those that are common english names, as they are likely to be noise. We pick the list of common english names [here](https://github.com/dwyl/english-words)."
   ]
  },
  {
   "cell_type": "code",
   "execution_count": 16,
   "metadata": {},
   "outputs": [],
   "source": [
    "with open(\"data/words_alpha.txt\", \"r\") as f:\n",
    "    words = {line.strip() for line in f}\n",
    "\n",
    "games_df = games_df[(games_df[\"Title\"].str.len() > 4) & ~(games_df[\"Title\"].str.lower().isin(words))].reset_index(drop=True)"
   ]
  },
  {
   "cell_type": "markdown",
   "metadata": {},
   "source": [
    "Some video games are just specific versions of other games, see for instance the *Tetris* example."
   ]
  },
  {
   "cell_type": "code",
   "execution_count": 17,
   "metadata": {},
   "outputs": [],
   "source": [
    "games_df[games_df[\"Title\"].str.contains(\"Tetris\")]"
   ]
  },
  {
   "cell_type": "markdown",
   "metadata": {},
   "source": [
    "Since we're not interested in specific versions but rather in the game itself, we will remove all games that are a superstring of another game."
   ]
  },
  {
   "cell_type": "code",
   "execution_count": 18,
   "metadata": {},
   "outputs": [],
   "source": [
    "games_df = games_df[games_df['Title'].apply(lambda x: not any(other in x for other in games_df['Title'] if x != other))].reset_index(drop=True)"
   ]
  },
  {
   "cell_type": "markdown",
   "metadata": {},
   "source": [
    "Since the titles and tags are quite noisy and may contain a lot of irrelevant information as well as different names for a given video game (e.g. *LoL* for *League of Legends*, *gta* for *Grand Theft Auto V*, etc.), we searched for a good and effective way to extract the game names from the `title` and `tags` field. \n",
    "\n",
    "- We first tried to use **TF-IDF** embeddings, but it did not yield satisfactory results are rare words were given too much importance : a title containing the words *mafia* and *minecraft* would be assigned to the game *mafia ii*, even though it is more likely to be about *minecraft*. \n",
    "- We then tried to use **Sentence Transformers** to embed the game names and the titles/tags, and then compute the cosine similarity between them. It did not yield satisfactory results either. \n",
    "\n",
    "- What works the best is in fact quite simple. We lowercase and remove punctuation from all video games names, titles and tags, and then we start by looking if a game name is entirely contained in the video title. If it is, we assign the video to this game. If it is not, we look if a game name is entirely contained in one of the tags. If there is only one game name, we assign the video to this game. Otherwise, if there is no game or several games in the tags, we do not assign the video. This way, we can assign a game to **~50%** of the videos.\n",
    "\n",
    "During **PM3**, we could go further in our analysis by leveraging **LLMs** to acomplish this task for more videos, but this would require a lot of computational power and time. We could also investigate the use of game initials, since it is a commonly used pattern in video tags (e.g. *gta v* for *Grand Theft Auto V*, *lol* for *League of Legends*, *r6* for *Tom Clancy's Rainbow Six Siege*, *cod* for *Call of Duty*, etc.)\n",
    "\n",
    " We'll only provide a **Proof-of-Concept** here, as it is quite slow (~1h) to process the whole dataset. We'll only process the previously devised sample (`pandas_sample_df`) of $5\\%$ of the data."
   ]
  },
  {
   "cell_type": "code",
   "execution_count": 19,
   "metadata": {},
   "outputs": [],
   "source": [
    "def preprocess_name(name: str) -> str:\n",
    "    \"\"\"\n",
    "    Convert to lowercase and remove punctuation from the name.\n",
    "    \n",
    "    Args:\n",
    "        name: str - Name of the game\n",
    "    \n",
    "    Returns:\n",
    "        str - Processed name\n",
    "    \"\"\"\n",
    "    return name.lower().replace(\",\", \" \").translate(str.maketrans('', '', string.punctuation))\n",
    "\n",
    "\n",
    "pandas_sample_df[\"title\"] = pandas_sample_df[\"title\"].apply(preprocess_name)\n",
    "pandas_sample_df[\"tags\"] = pandas_sample_df[\"tags\"].apply(preprocess_name)\n",
    "game_titles = games_df[\"Title\"].apply(preprocess_name).tolist()"
   ]
  },
  {
   "cell_type": "code",
   "execution_count": 20,
   "metadata": {},
   "outputs": [],
   "source": [
    "def map_to_game(title: str, tags: str) -> str:\n",
    "    \"\"\"\n",
    "    Map the video to a game based on the title and tags.\n",
    "    \n",
    "    Args:\n",
    "        title: str - The title of the video.\n",
    "        tags: str - List of tags of the video.\n",
    "        \n",
    "    Returns:\n",
    "        str - The name of the game if the video is related to a game, else None.\n",
    "    \"\"\"\n",
    "    for game in game_titles:\n",
    "        if game in title:\n",
    "            return game\n",
    "     \n",
    "    matched_games = []\n",
    "    for game in game_titles:\n",
    "        if game in tags:\n",
    "            matched_games.append(game)\n",
    "    if len(matched_games) == 1:\n",
    "        return matched_games[0]\n",
    "    else:\n",
    "        return None"
   ]
  },
  {
   "cell_type": "code",
   "execution_count": 21,
   "metadata": {},
   "outputs": [
    {
     "name": "stderr",
     "output_type": "stream",
     "text": [
      "100%|██████████| 686015/686015 [01:37<00:00, 7016.04it/s]\n"
     ]
    }
   ],
   "source": [
    "pandas_sample_df[\"video_game\"] = pandas_sample_df.progress_apply(lambda row: map_to_game(row[\"title\"], row[\"tags\"]), axis=1)"
   ]
  },
  {
   "cell_type": "code",
   "execution_count": 22,
   "metadata": {},
   "outputs": [
    {
     "name": "stdout",
     "output_type": "stream",
     "text": [
      "Percentage of classified games over the sample : 49.68%\n"
     ]
    }
   ],
   "source": [
    "print(f'Percentage of classified games over the sample : {100 - (pandas_sample_df[\"video_game\"].isna().sum() / len(pandas_sample_df) * 100):.2f}%')"
   ]
  },
  {
   "cell_type": "markdown",
   "metadata": {},
   "source": [
    "Almost half of our sample was assigned a game ! We can now explore what are the top-15 most popular games in our dataset !"
   ]
  },
  {
   "cell_type": "code",
   "execution_count": 26,
   "metadata": {},
   "outputs": [
    {
     "data": {
      "text/plain": [
       "video_game\n",
       "minecraft            38384\n",
       "fortnite             18745\n",
       "call of duty         18380\n",
       "league of legends    11799\n",
       "roblox               10456\n",
       "grand theft auto     10201\n",
       "dota 2                7422\n",
       "super smash bros      4632\n",
       "final fantasy         4066\n",
       "world of warcraft     3875\n",
       "the sims              3783\n",
       "assassins creed       3694\n",
       "resident evil         3266\n",
       "mortal kombat         3195\n",
       "clash of clans        3120\n",
       "Name: count, dtype: int64"
      ]
     },
     "execution_count": 26,
     "metadata": {},
     "output_type": "execute_result"
    }
   ],
   "source": [
    "pandas_sample_df[pandas_sample_df[\"video_game\"].notna()].value_counts(\"video_game\")[:15]"
   ]
  },
  {
   "cell_type": "markdown",
   "metadata": {},
   "source": [
    "Unsurprisingly, YouTube is dominated by *minecraft*, *fortnite*, *call of duty*, *league of legends*, ... This concludes our analysis on the gaming videos metadata."
   ]
  }
 ],
 "metadata": {
  "kernelspec": {
   "display_name": "ada",
   "language": "python",
   "name": "ada"
  },
  "language_info": {
   "codemirror_mode": {
    "name": "ipython",
    "version": 3
   },
   "file_extension": ".py",
   "mimetype": "text/x-python",
   "name": "python",
   "nbconvert_exporter": "python",
   "pygments_lexer": "ipython3",
   "version": "3.10.13"
  }
 },
 "nbformat": 4,
 "nbformat_minor": 2
}
